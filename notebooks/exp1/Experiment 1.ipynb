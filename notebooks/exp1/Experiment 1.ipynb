{
 "cells": [
  {
   "cell_type": "markdown",
   "metadata": {},
   "source": [
    "# Experiment 1 - Compare MUMmer and Reveal on Chromosome X (hg19/hg38)"
   ]
  },
  {
   "cell_type": "markdown",
   "metadata": {},
   "source": [
    "This document is generated with the use of IPython notebooks. The original notebook can be found here: https://github.com/jasperlinthorst/reveal/tree/master/notebooks. Using this notebook, anyone should be able to reproduce the results outlined in this experiment. It does rely on some software to be installed, but this should mostly be clear from the context in the notebook.\n",
    "\n",
    "Following are some imports of packages we'll need throughout this experiment."
   ]
  },
  {
   "cell_type": "code",
   "execution_count": 10,
   "metadata": {
    "collapsed": false
   },
   "outputs": [],
   "source": [
    "%matplotlib notebook\n",
    "import matplotlib\n",
    "import numpy as np\n",
    "import matplotlib.pyplot as plt\n",
    "import os\n",
    "from IPython.display import Image\n",
    "import seqalign\n",
    "import reveal\n",
    "from matplotlib_venn import venn2, venn2_circles\n",
    "from matplotlib_venn import venn3, venn3_circles\n",
    "from intervaltree import IntervalTree"
   ]
  },
  {
   "cell_type": "markdown",
   "metadata": {},
   "source": [
    "## Chromosomes X alignment using MUMMer and REVEAL"
   ]
  },
  {
   "cell_type": "markdown",
   "metadata": {},
   "source": [
    "How does a pairwise alignment of the human X chromosome (hg19 vs hg38) constructed by reveal compare to the same alignment produced by MUMmer."
   ]
  },
  {
   "cell_type": "markdown",
   "metadata": {},
   "source": [
    "Download both assemblies."
   ]
  },
  {
   "cell_type": "code",
   "execution_count": 2,
   "metadata": {
    "collapsed": false
   },
   "outputs": [
    {
     "name": "stdout",
     "output_type": "stream",
     "text": [
      "--2016-08-01 19:00:35--  http://hgdownload.cse.ucsc.edu/goldenpath/hg19/chromosomes/chrX.fa.gz\n",
      "Resolving hgdownload.cse.ucsc.edu... 128.114.119.163\n",
      "Connecting to hgdownload.cse.ucsc.edu|128.114.119.163|:80... connected.\n",
      "HTTP request sent, awaiting response... 200 OK\n",
      "Length: 49278128 (47M) [application/x-gzip]\n",
      "Saving to: 'chrX.fa.gz'\n",
      "\n",
      "chrX.fa.gz          100%[=====================>]  47.00M  5.36MB/s   in 11s    \n",
      "\n",
      "2016-08-01 19:00:47 (4.36 MB/s) - 'chrX.fa.gz' saved [49278128/49278128]\n",
      "\n",
      "--2016-08-01 19:00:48--  http://hgdownload.cse.ucsc.edu/goldenpath/hg38/chromosomes/chrX.fa.gz\n",
      "Resolving hgdownload.cse.ucsc.edu... 128.114.119.163\n",
      "Connecting to hgdownload.cse.ucsc.edu|128.114.119.163|:80... connected.\n",
      "HTTP request sent, awaiting response... 200 OK\n",
      "Length: 49662430 (47M) [application/x-gzip]\n",
      "Saving to: 'chrX.fa.gz'\n",
      "\n",
      "chrX.fa.gz          100%[=====================>]  47.36M  5.75MB/s   in 10s    \n",
      "\n",
      "2016-08-01 19:00:59 (4.60 MB/s) - 'chrX.fa.gz' saved [49662430/49662430]\n",
      "\n"
     ]
    }
   ],
   "source": [
    "!wget http://hgdownload.cse.ucsc.edu/goldenpath/hg19/chromosomes/chrX.fa.gz\n",
    "!gzip -d chrX.fa.gz\n",
    "!mv chrX.fa chrX.hg19.fa\n",
    "!wget http://hgdownload.cse.ucsc.edu/goldenpath/hg38/chromosomes/chrX.fa.gz\n",
    "!gzip -d chrX.fa.gz\n",
    "!mv chrX.fa chrX.hg38.fa"
   ]
  },
  {
   "cell_type": "markdown",
   "metadata": {},
   "source": [
    "Run mummer alignment of chrX hg38 vs hg19."
   ]
  },
  {
   "cell_type": "code",
   "execution_count": 38,
   "metadata": {
    "collapsed": false
   },
   "outputs": [
    {
     "name": "stdout",
     "output_type": "stream",
     "text": [
      "1: PREPARING DATA\n",
      "2,3: RUNNING mummer AND CREATING CLUSTERS\n",
      "# S.length=156040896\n",
      "# allcontigs 0\n",
      "N=156040897\n",
      "N/K=156040897\n",
      "M.size()=4606672\n",
      "# chrX_hg19\n",
      "# P.length()=155270560\n",
      "4: FINISHING DATA\n",
      "\n",
      "real\t41m59.294s\n",
      "user\t37m26.454s\n",
      "sys\t3m34.586s\n"
     ]
    }
   ],
   "source": [
    "!time nucmer --prefix=nucmer.chrX.hg38.hg19 chrX.hg38.fa chrX.hg19.fa"
   ]
  },
  {
   "cell_type": "code",
   "execution_count": 39,
   "metadata": {
    "collapsed": false
   },
   "outputs": [
    {
     "name": "stdout",
     "output_type": "stream",
     "text": [
      "Filtering alignments\n",
      "Extracting alignment coordinates\n",
      "Analyzing SNPs\n",
      "Extracting alignment breakpoints\n",
      "Generating report file\n"
     ]
    }
   ],
   "source": [
    "!dnadiff -d nucmer.chrX.hg38.hg19.delta"
   ]
  },
  {
   "cell_type": "markdown",
   "metadata": {},
   "source": [
    "Run reveal alignment of chrX hg38 vs hg19."
   ]
  },
  {
   "cell_type": "code",
   "execution_count": 1,
   "metadata": {
    "collapsed": false
   },
   "outputs": [
    {
     "name": "stdout",
     "output_type": "stream",
     "text": [
      "08/01/2016 06:55:40 PM Constructing index...\n",
      "08/01/2016 06:57:28 PM Done.\n",
      "08/01/2016 06:57:28 PM Constructing pairwise-alignment...\n",
      "08/01/2016 07:00:31 PM Merging nodes...\n",
      "08/01/2016 07:00:31 PM Done.\n",
      "08/01/2016 07:00:31 PM Done (96.88% identity, 150424485 bases out of 155270560 aligned, 11701 nodes out of 32685 aligned).\n",
      "08/01/2016 07:00:31 PM Writing graph...\n",
      "08/01/2016 07:00:35 PM Done.\n",
      "08/01/2016 07:00:35 PM Alignment graph written to: chrX.hg38.hg19.gfa\n"
     ]
    }
   ],
   "source": [
    "!reveal align -o chrX.hg38.hg19 -r chrX.hg38.fa chrX.hg38.fa chrX.hg19.fa"
   ]
  },
  {
   "cell_type": "markdown",
   "metadata": {},
   "source": [
    "Detect bubbles in alignment graph."
   ]
  },
  {
   "cell_type": "code",
   "execution_count": 3,
   "metadata": {
    "collapsed": false
   },
   "outputs": [],
   "source": [
    "!reveal bubbles chrX.hg38.hg19.gfa > chrX.hg38.hg19.bubbles"
   ]
  },
  {
   "cell_type": "markdown",
   "metadata": {},
   "source": [
    "## Analysis of variants"
   ]
  },
  {
   "cell_type": "markdown",
   "metadata": {},
   "source": [
    "All reveal bubbles (variants) are now stored in 'chrX.hg38.hg19.bubbles'.\n",
    "All MUMmer/dnadiff variants are stored in the following files:\n",
    "\n",
    "-   out.report  - Summary of alignments, differences and SNPs\n",
    "-   out.delta   - Standard nucmer alignment output\n",
    "-   out.1delta  - 1-to-1 alignment from delta-filter -1\n",
    "-   out.mdelta  - M-to-M alignment from delta-filter -m\n",
    "-   out.1coords - 1-to-1 coordinates from show-coords -THrcl .1delta\n",
    "-   out.mcoords - M-to-M coordinates from show-coords -THrcl .mdelta\n",
    "-   out.snps    - SNPs from show-snps -rlTHC .1delta\n",
    "-   out.rdiff   - Classified ref breakpoints from show-diff -rH .mdelta\n",
    "-   out.qdiff   - Classified qry breakpoints from show-diff -qH .mdelta\n",
    "-   out.unref   - Unaligned reference sequence IDs and lengths\n",
    "-   out.unqry   - Unaligned query sequence IDs and lengths"
   ]
  },
  {
   "cell_type": "markdown",
   "metadata": {},
   "source": [
    "Get an overview of the total number of variants reported by MUMmer."
   ]
  },
  {
   "cell_type": "markdown",
   "metadata": {},
   "source": [
    "### SNP calls"
   ]
  },
  {
   "cell_type": "markdown",
   "metadata": {},
   "source": [
    "As can be seen in the report generated by dnadiff, SNP calls by MUMmer are seperated into GSNPs and SNPs. Documentation states that GSNPs are SNPs that have at least 20bp flanking sequence, and SNPs have less than 20bp of flanking sequence. Most likely this is due to the fact that MUMmer uses Needleman-Wunsch alignment to close gaps between MUMs, probably SNPs in these regions are less reliable (in repetitive regions, homology/paralogy) and probably indicate multiple possible alignments producing different variant calls. "
   ]
  },
  {
   "cell_type": "markdown",
   "metadata": {
    "collapsed": true
   },
   "source": [
    "#### Reveal"
   ]
  },
  {
   "cell_type": "markdown",
   "metadata": {},
   "source": [
    "Inspect reveal bubbles for SNP calls."
   ]
  },
  {
   "cell_type": "code",
   "execution_count": 4,
   "metadata": {
    "collapsed": false
   },
   "outputs": [],
   "source": [
    "rsnps=[]\n",
    "bubbles=open(\"chrX.hg38.hg19.bubbles\",'r')\n",
    "bubbles.readline()\n",
    "for line in bubbles:\n",
    "    cols=line.split(\"\\t\")\n",
    "    a1,a2=cols[5].split(\",\")\n",
    "    if len(a1)==1 and len(a2)==1 and a1!=\"-\" and a2!=\"-\":\n",
    "        rsnps.append(line)\n",
    "        continue"
   ]
  },
  {
   "cell_type": "code",
   "execution_count": 5,
   "metadata": {
    "collapsed": false
   },
   "outputs": [
    {
     "name": "stdout",
     "output_type": "stream",
     "text": [
      "Reveal detects 8312 SNPs from the alignment graph.\n"
     ]
    }
   ],
   "source": [
    "rsnppositions=[int(snp.split()[4]) for snp in rsnps]\n",
    "print \"Reveal detects\",len(rsnppositions),\"SNPs from the alignment graph.\""
   ]
  },
  {
   "cell_type": "markdown",
   "metadata": {},
   "source": [
    "#### MUMmer"
   ]
  },
  {
   "cell_type": "markdown",
   "metadata": {},
   "source": [
    "Load all SNP positions made by MUMmer by parsing the file out.snps."
   ]
  },
  {
   "cell_type": "code",
   "execution_count": 6,
   "metadata": {
    "collapsed": true
   },
   "outputs": [],
   "source": [
    "msnppositions=[]\n",
    "mgsnppositions=[]\n",
    "for snpline in open(\"out.snps\"):\n",
    "    cols=snpline.split()\n",
    "    if cols[1]!=\".\" and cols[2]!=\".\":\n",
    "        pos=int(cols[0])\n",
    "        msnppositions.append(pos)\n",
    "        if int(cols[4])>=20:\n",
    "            mgsnppositions.append(pos)"
   ]
  },
  {
   "cell_type": "code",
   "execution_count": 7,
   "metadata": {
    "collapsed": false
   },
   "outputs": [
    {
     "name": "stdout",
     "output_type": "stream",
     "text": [
      "MUMmer calls 9842 SNPs, from which 8028 are GSNPs\n"
     ]
    }
   ],
   "source": [
    "print \"MUMmer calls\",len(msnppositions),\"SNPs, from which\",len(mgsnppositions),\"are GSNPs\""
   ]
  },
  {
   "cell_type": "markdown",
   "metadata": {},
   "source": [
    "#### Compare called SNPs"
   ]
  },
  {
   "cell_type": "markdown",
   "metadata": {},
   "source": [
    "Check the exact overlap between the three sets."
   ]
  },
  {
   "cell_type": "code",
   "execution_count": 11,
   "metadata": {
    "collapsed": false
   },
   "outputs": [
    {
     "data": {
      "image/png": "[encoded data removed]",
      "text/plain": [
       "<matplotlib.figure.Figure at 0x10635e950>"
      ]
     },
     "metadata": {},
     "output_type": "display_data"
    }
   ],
   "source": [
    "%matplotlib inline\n",
    "plt.figure(figsize=(6,4))\n",
    "a=set(msnppositions)\n",
    "b=set(mgsnppositions)\n",
    "c=set(rsnppositions)\n",
    "subsetcounts=(len(a-b-c), len(b-a-c), len((a&b)-c), len(c-a-b), len((a&c)-b), len((b&c)-a), 1000)\n",
    "v = venn3(subsets=subsetcounts,set_labels = ('MUMmer SNP', 'MUMmer G-SNP', 'Reveal'))\n",
    "venn3_circles(subsets=subsetcounts, linestyle='dashed', linewidth=1)\n",
    "v.get_label_by_id('111').set_text(str(len(a&b&c)))\n",
    "plt.title(\"Overlap between SNP calls\")\n",
    "plt.savefig(\"SNPovlp_nofilter.svg\")\n",
    "plt.show()"
   ]
  },
  {
   "cell_type": "markdown",
   "metadata": {},
   "source": [
    "There are quite some calls that Mummer reports and Reveal does not. Probably a lot fall within 'hypervariable regions'. Let's make the same plot after filtering out the SNPs that fall within a hypervariable region. Add all hypervariable regions to an intervaltree and filter the two datasets."
   ]
  },
  {
   "cell_type": "code",
   "execution_count": 12,
   "metadata": {
    "collapsed": false
   },
   "outputs": [],
   "source": [
    "vartree=IntervalTree()\n",
    "rvariable=[]\n",
    "rvariablelength=[]\n",
    "bubbles=open(\"chrX.hg38.hg19.bubbles\",'r')\n",
    "bubbles.readline()\n",
    "for line in bubbles:\n",
    "    cols=line.split(\"\\t\")\n",
    "    a1,a2=cols[5].split(\",\")\n",
    "    if a1!=\"-\" and a2!=\"-\" and (len(a1)>1 or len(a2)>1):\n",
    "        refallele=cols[5].split(\",\")[int(cols[-1])]\n",
    "        vartree[int(cols[4]):int(cols[4])+len(refallele)]=line\n",
    "        rvariable.append(int(cols[4]))\n",
    "        rvariablelength.append(len(refallele))"
   ]
  },
  {
   "cell_type": "markdown",
   "metadata": {},
   "source": [
    "Now make the same plot for the filtered datasets."
   ]
  },
  {
   "cell_type": "code",
   "execution_count": 13,
   "metadata": {
    "collapsed": false
   },
   "outputs": [
    {
     "data": {
      "image/png": "[encoded data removed]",
      "text/plain": [
       "<matplotlib.figure.Figure at 0x104797350>"
      ]
     },
     "metadata": {},
     "output_type": "display_data"
    }
   ],
   "source": [
    "%matplotlib inline\n",
    "plt.figure(figsize=(6,4))\n",
    "msnppositionsfiltered=set()\n",
    "for snp in msnppositions:\n",
    "    if len(vartree[snp])==0:\n",
    "        msnppositionsfiltered.add(snp)\n",
    "mgsnppositionsfiltered=set()\n",
    "for snp in mgsnppositions:\n",
    "    if len(vartree[snp])==0:\n",
    "        mgsnppositionsfiltered.add(snp)\n",
    "a=set(msnppositionsfiltered)\n",
    "b=set(mgsnppositionsfiltered)\n",
    "c=set(rsnppositions)\n",
    "subsetcounts=(len(a-b-c), len(b-a-c), len((a&b)-c), len(c-a-b), len((a&c)-b), len((b&c)-a), 1000)\n",
    "v = venn3(subsets=subsetcounts,set_labels = ('MUMmer SNP', 'MUMmer G-SNP', 'Reveal'))\n",
    "venn3_circles(subsets=subsetcounts, linestyle='dashed', linewidth=1)\n",
    "v.get_label_by_id('111').set_text(str(len(a&b&c)))\n",
    "plt.title(\"Overlap between SNP calls\")\n",
    "plt.savefig(\"SNPovlp_filter.svg\")\n",
    "plt.show()"
   ]
  },
  {
   "cell_type": "markdown",
   "metadata": {},
   "source": [
    "Ok, that changes a lot. At least now almost all GSNPs overlap in both callsets."
   ]
  },
  {
   "cell_type": "code",
   "execution_count": 14,
   "metadata": {
    "collapsed": false
   },
   "outputs": [
    {
     "data": {
      "text/plain": [
       "(6, 145, 344)"
      ]
     },
     "execution_count": 14,
     "metadata": {},
     "output_type": "execute_result"
    }
   ],
   "source": [
    "revealmissedgsnps=set(mgsnppositionsfiltered) - set(rsnppositions)\n",
    "revealmissedsnps=set(msnppositionsfiltered) - set(rsnppositions) - set(mgsnppositionsfiltered)\n",
    "mummermissedsnps=set(rsnppositions)-set(msnppositionsfiltered)\n",
    "len(revealmissedgsnps),len(revealmissedsnps),len(mummermissedsnps)"
   ]
  },
  {
   "cell_type": "markdown",
   "metadata": {},
   "source": [
    "#### Conclusion"
   ]
  },
  {
   "cell_type": "markdown",
   "metadata": {},
   "source": [
    "After filtering SNP calls by the hypervariable regions reported by Reveal, all GSNP calls are also detected by reveal. Some SNPs are only reported by Reveal, some only by MUMmer. Visually explore later on what seems to be the reason for this."
   ]
  },
  {
   "cell_type": "markdown",
   "metadata": {},
   "source": [
    "### Indel calls"
   ]
  },
  {
   "cell_type": "markdown",
   "metadata": {
    "collapsed": true
   },
   "source": [
    "#### Reveal"
   ]
  },
  {
   "cell_type": "markdown",
   "metadata": {},
   "source": [
    "Load indels called by Reveal."
   ]
  },
  {
   "cell_type": "code",
   "execution_count": 20,
   "metadata": {
    "collapsed": false
   },
   "outputs": [],
   "source": [
    "rindels=[]\n",
    "rindelsl=[]\n",
    "rdeletes=[]\n",
    "rdeletesl=[]\n",
    "rinserts=[]\n",
    "rinsertsl=[]\n",
    "bubbles=open(\"chrX.hg38.hg19.bubbles\",'r')\n",
    "bubbles.readline()\n",
    "for line in bubbles:\n",
    "    cols=line.rstrip().split(\"\\t\")\n",
    "    pos=int(cols[4])\n",
    "    refallele=cols[5].split(\",\")[int(cols[-1])]\n",
    "    altallele=cols[5].split(\",\")[int(cols[-2])]\n",
    "    if cols[5].find(\"N\")!=-1 or cols[5].find(\"-\")==-1:\n",
    "        continue\n",
    "    if refallele=='-':\n",
    "        rinserts.append(pos)\n",
    "        rinsertsl.append(len(altallele))\n",
    "        rindelsl.append(len(altallele))\n",
    "    else:\n",
    "        rdeletes.append(pos)\n",
    "        rdeletesl.append(len(refallele))\n",
    "        rindelsl.append(len(refallele))\n",
    "    rindels.append(pos)"
   ]
  },
  {
   "cell_type": "code",
   "execution_count": 21,
   "metadata": {
    "collapsed": false
   },
   "outputs": [
    {
     "name": "stdout",
     "output_type": "stream",
     "text": [
      "Reveal calls 2414 indels\n",
      "Reveal calls 1158 inserts\n",
      "Reveal calls 1256 deletes\n"
     ]
    }
   ],
   "source": [
    "print \"Reveal calls\",len(rindels),\"indels\"\n",
    "print \"Reveal calls\",len(rinserts),\"inserts\"\n",
    "print \"Reveal calls\",len(rdeletes),\"deletes\""
   ]
  },
  {
   "cell_type": "markdown",
   "metadata": {},
   "source": [
    "#### MUMmer"
   ]
  },
  {
   "cell_type": "markdown",
   "metadata": {},
   "source": [
    "Load all indels called by MUMmer."
   ]
  },
  {
   "cell_type": "code",
   "execution_count": 23,
   "metadata": {
    "collapsed": false
   },
   "outputs": [
    {
     "name": "stdout",
     "output_type": "stream",
     "text": [
      "MUMmer calls 2579 indels\n",
      "MUMmer calls 1266 inserts\n",
      "MUMmer calls 1313 deletes\n"
     ]
    }
   ],
   "source": [
    "rpos=set()\n",
    "qpos=set()\n",
    "mdeletes=[]\n",
    "minserts=[]\n",
    "mindels=[]\n",
    "for snpline in open(\"out.snps\"):\n",
    "    cols=snpline.split()\n",
    "    pos=int(cols[0])\n",
    "    if cols[1]==\".\":\n",
    "        if int(cols[0]) not in rpos:\n",
    "            if len(vartree[int(cols[0])])==0:\n",
    "                minserts.append(int(cols[0]))\n",
    "            \n",
    "        rpos.add(int(cols[0]))\n",
    "    if cols[2]==\".\":\n",
    "        if int(cols[3]) not in qpos:\n",
    "            if len(vartree[int(cols[0])])==0:\n",
    "                mdeletes.append(int(cols[0]))\n",
    "            \n",
    "        qpos.add(int(cols[3]))\n",
    "    \n",
    "mindels=minserts+mdeletes\n",
    "\n",
    "print \"MUMmer calls\",len(mindels),\"indels\"\n",
    "print \"MUMmer calls\",len(minserts),\"inserts\"\n",
    "print \"MUMmer calls\",len(mdeletes),\"deletes\""
   ]
  },
  {
   "cell_type": "markdown",
   "metadata": {},
   "source": [
    "#### Compare called indels"
   ]
  },
  {
   "cell_type": "markdown",
   "metadata": {},
   "source": [
    "Let's see how many indel calls overlap between the two callsets."
   ]
  },
  {
   "cell_type": "code",
   "execution_count": 24,
   "metadata": {
    "collapsed": false
   },
   "outputs": [
    {
     "data": {
      "image/png": "[encoded data removed]",
      "text/plain": [
       "<matplotlib.figure.Figure at 0x109227f90>"
      ]
     },
     "metadata": {},
     "output_type": "display_data"
    },
    {
     "data": {
      "text/plain": [
       "211"
      ]
     },
     "execution_count": 24,
     "metadata": {},
     "output_type": "execute_result"
    }
   ],
   "source": [
    "%matplotlib inline\n",
    "plt.figure(figsize=(6,4))\n",
    "a=set(mindels)\n",
    "b=set(rindels)\n",
    "subsetcounts=(len(a-b), len(b-a), len(a&b))\n",
    "v = venn2(subsets=subsetcounts,set_labels = ('MUMmer', '   Reveal'))\n",
    "venn2_circles(subsets=subsetcounts, linestyle='dashed', linewidth=1)\n",
    "plt.title(\"Overlap between Indel calls\")\n",
    "plt.show()\n",
    "len(a&b)"
   ]
  },
  {
   "cell_type": "markdown",
   "metadata": {},
   "source": [
    "Ai, very little overlap between the two sets. Further inspection shows that MUMmer always left-aligns indel calls, for that reason many calls off, add a 'wiggle' and check how much overlap there is then."
   ]
  },
  {
   "cell_type": "code",
   "execution_count": 25,
   "metadata": {
    "collapsed": false
   },
   "outputs": [
    {
     "name": "stdout",
     "output_type": "stream",
     "text": [
      "1080 1100\n"
     ]
    },
    {
     "data": {
      "image/png": "[encoded data removed]",
      "text/plain": [
       "<matplotlib.figure.Figure at 0x104797d10>"
      ]
     },
     "metadata": {},
     "output_type": "display_data"
    }
   ],
   "source": [
    "%matplotlib inline\n",
    "plt.figure(figsize=(6,4))\n",
    "mindelsfiltered=set()\n",
    "wiggle=25\n",
    "\n",
    "rinserttree=IntervalTree()\n",
    "for insert in rinserts:\n",
    "    rinserttree[insert-wiggle:insert+1+wiggle]=insert\n",
    "\n",
    "minserttree=IntervalTree()\n",
    "for insert in minserts:\n",
    "    minserttree[insert-wiggle:insert+1+wiggle]=insert\n",
    "\n",
    "a=set(minserts)\n",
    "b=set(rinserts)\n",
    "revealmissedinserts=set()\n",
    "mummermissedinserts=set()\n",
    "\n",
    "ints=0\n",
    "for start,end,call in rinserttree:\n",
    "    if len(minserttree.search(start,end))!=0:\n",
    "        ints+=1\n",
    "    else:\n",
    "        mummermissedinserts.add(call)\n",
    "\n",
    "aints=0\n",
    "for start,end,call in minserttree:\n",
    "    if len(rinserttree.search(start,end))!=0 or len(vartree[call])!=0:\n",
    "        aints+=1\n",
    "    else:\n",
    "        revealmissedinserts.add(call)\n",
    "\n",
    "print ints,aints\n",
    "        \n",
    "subsetcounts=(len(a)-(aints), len(b)-(aints), aints)\n",
    "\n",
    "v = venn2(subsets=subsetcounts,set_labels = ('MUMmer', 'Reveal'))\n",
    "venn2_circles(subsets=subsetcounts, linestyle='dashed', linewidth=1)\n",
    "plt.title(\"Overlap between insert calls\")\n",
    "plt.show()"
   ]
  },
  {
   "cell_type": "code",
   "execution_count": 31,
   "metadata": {
    "collapsed": false
   },
   "outputs": [
    {
     "name": "stdout",
     "output_type": "stream",
     "text": [
      "1168 1185\n"
     ]
    },
    {
     "data": {
      "image/png": "[encoded data removed]",
      "text/plain": [
       "<matplotlib.figure.Figure at 0x107579410>"
      ]
     },
     "metadata": {},
     "output_type": "display_data"
    }
   ],
   "source": [
    "%matplotlib inline\n",
    "plt.figure(figsize=(6,4))\n",
    "mindelsfiltered=set()\n",
    "wiggle=25\n",
    "\n",
    "rdeletetree=IntervalTree()\n",
    "for delete in rdeletes:\n",
    "    rdeletetree[delete-wiggle:delete+1+wiggle]=delete\n",
    "\n",
    "mdeletetree=IntervalTree()\n",
    "for delete in mdeletes:\n",
    "    mdeletetree[delete-wiggle:delete+1+wiggle]=delete\n",
    "\n",
    "a=set(mdeletes)\n",
    "b=set(rdeletes)\n",
    "revealmisseddeletes=set()\n",
    "mummermisseddeletes=set()\n",
    "\n",
    "ints=0\n",
    "for start,end,call in rdeletetree:\n",
    "    if len(mdeletetree.search(start,end))!=0:\n",
    "        ints+=1\n",
    "    else:\n",
    "        mummermisseddeletes.add(call)\n",
    "\n",
    "aints=0\n",
    "for start,end,call in mdeletetree:\n",
    "    if len(rdeletetree.search(start,end))!=0 or len(vartree[call])!=0:\n",
    "        aints+=1\n",
    "    else:\n",
    "        revealmisseddeletes.add(call)\n",
    "\n",
    "print ints,aints\n",
    "        \n",
    "subsetcounts=(len(a)-(aints), len(b)-(aints), aints)\n",
    "\n",
    "v = venn2(subsets=subsetcounts,set_labels = ('MUMmer', 'Reveal'))\n",
    "venn2_circles(subsets=subsetcounts, linestyle='dashed', linewidth=1)\n",
    "plt.title(\"Overlap between delete calls\")\n",
    "plt.show()"
   ]
  },
  {
   "cell_type": "code",
   "execution_count": 32,
   "metadata": {
    "collapsed": false
   },
   "outputs": [
    {
     "name": "stdout",
     "output_type": "stream",
     "text": [
      "2257 2304\n"
     ]
    },
    {
     "data": {
      "image/png": "[encoded data removed]",
      "text/plain": [
       "<matplotlib.figure.Figure at 0x107aeebd0>"
      ]
     },
     "metadata": {},
     "output_type": "display_data"
    }
   ],
   "source": [
    "%matplotlib inline\n",
    "plt.figure(figsize=(6,4))\n",
    "mindelsfiltered=set()\n",
    "wiggle=25\n",
    "\n",
    "rindeltree=IntervalTree()\n",
    "for indel,l in zip(rindels,rindelsl):\n",
    "    rindeltree[indel-wiggle:indel+1+wiggle]=indel\n",
    "\n",
    "mindeltree=IntervalTree()\n",
    "for indel in mindels:\n",
    "    mindeltree[indel-wiggle:indel+1+wiggle]=indel\n",
    "\n",
    "a=set(mindels)\n",
    "b=set(rindels)\n",
    "revealmissedindels=set()\n",
    "mummermissedindels=set()\n",
    "\n",
    "ints=0\n",
    "for start,end,call in rindeltree:\n",
    "    if len(mindeltree.search(start,end))!=0:\n",
    "        ints+=1\n",
    "    else:\n",
    "        mummermissedindels.add(call)\n",
    "\n",
    "aints=0\n",
    "for start,end,call in mindeltree:\n",
    "    if len(rindeltree.search(start,end))!=0 or len(vartree[call])!=0:\n",
    "        aints+=1\n",
    "    else:\n",
    "        #if len(vartree[call])==0:\n",
    "        revealmissedindels.add(call)\n",
    "\n",
    "print ints,aints\n",
    "        \n",
    "subsetcounts=(len(a)-(aints), len(b)-(aints), aints)\n",
    "\n",
    "v = venn2(subsets=subsetcounts,set_labels = ('MUMmer', 'Reveal'))\n",
    "venn2_circles(subsets=subsetcounts, linestyle='dashed', linewidth=1)\n",
    "plt.title(\"Overlap between Indel calls (wiggle=%sbp)\"%wiggle)\n",
    "plt.show()"
   ]
  },
  {
   "cell_type": "markdown",
   "metadata": {},
   "source": [
    "### Inversion calls"
   ]
  },
  {
   "cell_type": "markdown",
   "metadata": {},
   "source": [
    "#### Reveal"
   ]
  },
  {
   "cell_type": "markdown",
   "metadata": {},
   "source": [
    "Inspect reveal bubbles for inverted sequence."
   ]
  },
  {
   "cell_type": "code",
   "execution_count": 33,
   "metadata": {
    "collapsed": false
   },
   "outputs": [],
   "source": [
    "rinversions=[]\n",
    "rinversionsl=[]\n",
    "rinversionsscore=[]\n",
    "bubbles=open(\"chrX.hg38.hg19.bubbles\",'r')\n",
    "bubbles.readline()\n",
    "for line in bubbles:\n",
    "    cols=line.split(\"\\t\")\n",
    "    a1,a2=cols[5].split(\",\")\n",
    "    if len(a1)>100 and len(a2)>100 and \"N\" not in a1 and \"N\" not in a2 and abs(len(a1)-len(a2))<min([len(a1),len(a2)]):\n",
    "        identrc=reveal.align_seq(reveal.rc(a1),a2)\n",
    "        ident=reveal.align_seq(a1,a2)\n",
    "        if identrc>ident:\n",
    "            rinversions.append(int(line.split()[4]))\n",
    "            rinversionsl.append(len(a1))\n",
    "            rinversionsscore.append((identrc,ident))"
   ]
  },
  {
   "cell_type": "markdown",
   "metadata": {
    "collapsed": true
   },
   "source": [
    "#### MUMmer"
   ]
  },
  {
   "cell_type": "markdown",
   "metadata": {},
   "source": [
    "Load the inversion breakpoints detected by MUMMer."
   ]
  },
  {
   "cell_type": "code",
   "execution_count": 34,
   "metadata": {
    "collapsed": false
   },
   "outputs": [],
   "source": [
    "inv=!grep INV out.rdiff\n",
    "minversions=[]\n",
    "for i,line in enumerate(inv):\n",
    "    if i%2==0:\n",
    "        minversions.append(int(line.split()[2]))"
   ]
  },
  {
   "cell_type": "markdown",
   "metadata": {},
   "source": [
    "#### Compare called inversions"
   ]
  },
  {
   "cell_type": "markdown",
   "metadata": {},
   "source": [
    "How many inversions were detected by MUMmer, and how many by Reveal?"
   ]
  },
  {
   "cell_type": "code",
   "execution_count": 35,
   "metadata": {
    "collapsed": false
   },
   "outputs": [
    {
     "name": "stdout",
     "output_type": "stream",
     "text": [
      "MUMmer calls 10 inversions\n",
      "Reveal calls 12 inversions\n"
     ]
    }
   ],
   "source": [
    "print \"MUMmer calls\",len(minversions),\"inversions\"\n",
    "print \"Reveal calls\",len(rinversions),\"inversions\""
   ]
  },
  {
   "cell_type": "markdown",
   "metadata": {},
   "source": [
    "Since inversion breakpoints tend to be quite variable depending heavily on alignment parameters, make some plots to see what the overlap is between the two sets."
   ]
  },
  {
   "cell_type": "code",
   "execution_count": 36,
   "metadata": {
    "collapsed": false
   },
   "outputs": [
    {
     "data": {
      "text/plain": [
       "(0, 3)"
      ]
     },
     "execution_count": 36,
     "metadata": {},
     "output_type": "execute_result"
    },
    {
     "data": {
      "image/png": "[encoded data removed]",
      "text/plain": [
       "<matplotlib.figure.Figure at 0x10439d350>"
      ]
     },
     "metadata": {},
     "output_type": "display_data"
    }
   ],
   "source": [
    "%matplotlib inline\n",
    "plt.plot(minversions,[1]*len(minversions),'rx')\n",
    "plt.plot(rinversions,[2]*len(rinversions),'bx')\n",
    "plt.ylim(0,3)"
   ]
  },
  {
   "cell_type": "code",
   "execution_count": 37,
   "metadata": {
    "collapsed": false
   },
   "outputs": [
    {
     "data": {
      "text/plain": [
       "(45000000, 55000000)"
      ]
     },
     "execution_count": 37,
     "metadata": {},
     "output_type": "execute_result"
    },
    {
     "data": {
      "image/png": "[encoded data removed]",
      "text/plain": [
       "<matplotlib.figure.Figure at 0x108745590>"
      ]
     },
     "metadata": {},
     "output_type": "display_data"
    }
   ],
   "source": [
    "%matplotlib inline\n",
    "plt.plot(minversions,[1]*len(minversions),'rx')\n",
    "plt.plot(rinversions,[2]*len(rinversions),'bx')\n",
    "plt.ylim(0,3)\n",
    "plt.xlim(45000000,55000000) #zoom in a bit"
   ]
  },
  {
   "cell_type": "markdown",
   "metadata": {},
   "source": [
    "From the above plots we can see that there are two distinct inversion calls in the Reveal set that are not in the callset of MUMmer. Lets make some dotplots of those regions to see if these are valid."
   ]
  },
  {
   "cell_type": "code",
   "execution_count": 38,
   "metadata": {
    "collapsed": false
   },
   "outputs": [
    {
     "data": {
      "text/plain": [
       "[153149606,\n",
       " 152729754,\n",
       " 150403070,\n",
       " 135723173,\n",
       " 72860191,\n",
       " 63185574,\n",
       " 52729145,\n",
       " 52502218,\n",
       " 51692964,\n",
       " 49157515,\n",
       " 46951601,\n",
       " 45689230]"
      ]
     },
     "execution_count": 38,
     "metadata": {},
     "output_type": "execute_result"
    }
   ],
   "source": [
    "rinversions"
   ]
  },
  {
   "cell_type": "code",
   "execution_count": 39,
   "metadata": {
    "collapsed": false
   },
   "outputs": [
    {
     "data": {
      "text/plain": [
       "['chrX_hg38\\tINV\\t45689249\\t45687803\\t-1445',\n",
       " 'chrX_hg38\\tINV\\t45692668\\t45691227\\t-1440',\n",
       " 'chrX_hg38\\tINV\\t46951328\\t46951331\\t4',\n",
       " 'chrX_hg38\\tINV\\t46971332\\t46971112\\t-219',\n",
       " 'chrX_hg38\\tINV\\t49157515\\t49155846\\t-1668',\n",
       " 'chrX_hg38\\tINV\\t49164375\\t49162723\\t-1651',\n",
       " 'chrX_hg38\\tINV\\t51691984\\t51668019\\t-23964',\n",
       " 'chrX_hg38\\tINV\\t51701558\\t51701343\\t-214',\n",
       " 'chrX_hg38\\tINV\\t52502275\\t52360116\\t-142158',\n",
       " 'chrX_hg38\\tINV\\t52539496\\t52510823\\t-28672',\n",
       " 'chrX_hg38\\tINV\\t63185601\\t63128999\\t-56601',\n",
       " 'chrX_hg38\\tINV\\t63249949\\t63193343\\t-56605',\n",
       " 'chrX_hg38\\tINV\\t135808691\\t135788258\\t-20432',\n",
       " 'chrX_hg38\\tINV\\t135851981\\t135849312\\t-2668',\n",
       " 'chrX_hg38\\tINV\\t150403086\\t150402164\\t-921',\n",
       " 'chrX_hg38\\tINV\\t150417930\\t150417008\\t-921',\n",
       " 'chrX_hg38\\tINV\\t152729754\\t152678580\\t-51173',\n",
       " 'chrX_hg38\\tINV\\t152789896\\t152739664\\t-50231',\n",
       " 'chrX_hg38\\tINV\\t153126446\\t153106016\\t-20429',\n",
       " 'chrX_hg38\\tINV\\t153273253\\t153250226\\t-23026']"
      ]
     },
     "execution_count": 39,
     "metadata": {},
     "output_type": "execute_result"
    }
   ],
   "source": [
    "inv"
   ]
  },
  {
   "cell_type": "markdown",
   "metadata": {},
   "source": [
    "Ok, so it's 52729145 and 72860191 that are not detected by MUMmer. Can we see anything from the size of the inversion events?"
   ]
  },
  {
   "cell_type": "code",
   "execution_count": 40,
   "metadata": {
    "collapsed": false
   },
   "outputs": [
    {
     "data": {
      "text/plain": [
       "[(153149606, 100763, (0.9993251491122733, 0.2853130613419608)),\n",
       " (152729754, 8954, (0.9984364529819075, 0.2371007371007371)),\n",
       " (150403070, 13960, (0.999140216378878, 0.21659382388765494)),\n",
       " (135723173, 73838, (0.8229637855846583, 0.5300387334434844)),\n",
       " (72860191, 417, (1.0, 0.16786570743405277)),\n",
       " (63185574, 7798, (0.992818671454219, 0.10271864580661708)),\n",
       " (52729145, 289, (0.8269896193771626, 0.22145328719723184)),\n",
       " (52502218, 8454, (1.0, 0.27584575348947243)),\n",
       " (51692964, 7399, (0.9997296932017841, 0.2086768482227328)),\n",
       " (49157515, 5209, (0.998848147437128, 0.11249760030716069)),\n",
       " (46951601, 19512, (0.9995387453874539, 0.13519885198851989)),\n",
       " (45689230, 2017, (1.0, 0.2583044124938027))]"
      ]
     },
     "execution_count": 40,
     "metadata": {},
     "output_type": "execute_result"
    }
   ],
   "source": [
    "[rinv for rinv in zip(rinversions,rinversionsl,rinversionsscore)]"
   ]
  },
  {
   "cell_type": "markdown",
   "metadata": {},
   "source": [
    "It looks like MUMmer doesn't call the smaller inversions. Let's use mummerplot to make some targetted plots for the specific regions."
   ]
  },
  {
   "cell_type": "code",
   "execution_count": 167,
   "metadata": {
    "collapsed": false
   },
   "outputs": [
    {
     "data": {
      "image/png": "[encoded data removed]",
      "text/plain": [
       "<IPython.core.display.Image object>"
      ]
     },
     "execution_count": 167,
     "metadata": {},
     "output_type": "execute_result"
    }
   ],
   "source": [
    "offset=1000\n",
    "plotrange=(52729145,52758131-offset,52758131+offset,52729145-offset,52729145+offset)\n",
    "os.system(\"mummerplot --png --prefix=%s  -y '[%s:%s]' -x '[%s:%s]' nucmer.chrX.hg38.hg19.delta\"%plotrange)\n",
    "Image(filename='52729145.png')"
   ]
  },
  {
   "cell_type": "code",
   "execution_count": null,
   "metadata": {
    "collapsed": false
   },
   "outputs": [
    {
     "data": {
      "image/png": "[encoded data removed]",
      "text/plain": [
       "<IPython.core.display.Image object>"
      ]
     },
     "execution_count": 168,
     "metadata": {},
     "output_type": "execute_result"
    }
   ],
   "source": [
    "offset=1000\n",
    "plotrange=(72860191 ,72080053-offset,72080053+offset,72860191 -offset,72860191 +offset)\n",
    "os.system(\"mummerplot --png --prefix=%s  -y '[%s:%s]' -x '[%s:%s]' nucmer.chrX.hg38.hg19.delta\"%plotrange)\n",
    "Image(filename='72860191.png')"
   ]
  },
  {
   "cell_type": "markdown",
   "metadata": {},
   "source": [
    "Ok, so in the first case (52729145) there does seem to be evidence for an inversion (at least, purely based on the sequence), also in the dotplot created by MUMmer itself. Most likely explanation is that this event is not recognised as such by MUMmer, due to either:\n",
    "- the very long inverted repeat arms\n",
    "- combination with the indel event at the flanking inverted repeat structure\n",
    "- or merely the size of the event\n",
    "- parameter settings of MUMmer"
   ]
  },
  {
   "cell_type": "markdown",
   "metadata": {},
   "source": [
    "In the second case (72860191) the explanation is a bit harder since MUMmer does not detect the reverse complement MUM that spans the inverted stretch. Various reasons for this can be thought of, not the right parameter settings(?), a bug or (more interestingly) the fact that MUMmer does not have enough resolution in this area due to the repetitive nature of the region. Our recursive approach is apparently able to cope with this, since repetitive exact matches at the top level become unique at the local resolution(!)."
   ]
  },
  {
   "cell_type": "markdown",
   "metadata": {},
   "source": [
    "To double check if 72860191 is actually an inversion, let's do a simple needleman-wunsch alignment of the unbridged stretch shown in the mum plot."
   ]
  },
  {
   "cell_type": "code",
   "execution_count": 101,
   "metadata": {
    "collapsed": false,
    "scrolled": true
   },
   "outputs": [
    {
     "name": "stdout",
     "output_type": "stream",
     "text": [
      "('GTAGATGAAGCTGCACCTGCTGA--CTCAGT------------TTCCTGAGTGAGCAAATTTCA----------------TCACTAAGCTAACCAA--ACCTGCATGCC--TCCTCCCAGTAACAA--TG-----ATTGGAA----TGATGTCAACTTcttccatcac-----aggtctataatctgtgattgtcacctttt-----------------tttgtcatattagcagtttttggtgaccGAAAAGccccagtgagatgaacccggtacctcagttggaaatgcaga-aatcacccatcttctgcgtcgctcatgctgggagctgtagactggagctgttcctattcggccat-----cttggaacctcccccACTTTCATCCACGTCCATGTATTTCTTAGAAAGTCTCCACCAATCCCTAGAGATGTGCCTTCTGAGAAATACATGACTTTTAATG---AGTTTCACAGATCTAGTCAATGGTC', 'ACCATTGA--CTAGATCTG-TGAAACTCATTAAAAGTCATGTATTTCTCAGAAGGCACATCTCTAGGGATTGGTGGAGACTTTCTAAGAAATACATGGACGTGGATGAAAGTgggggaggttccaagatggccgaataggaacagctccagtctacagctcccagcatgagcgacgcagaagatgggtgatt-tctgcatttccaactgaggtaccgggttcatctcactggggCTTTTCGGTCACCAAAAACTGCTAATATGACAAA-----------------AAAAGGTGACAATCACAGATTATAGACCTG-----TGATGGAAGAAGTTGACATCA----TTCCAAT-----CATTGTTACTGGGAGGAGGC---------ATGCAGGTT--TGGTTAGCTTAGTGAT----------------GAAATTTGCTCACTCAGGAA-AC-TGAGTCAGCAGGTGCAGCTTCA----TCTA--CA------', -313)\n",
      "('GACCATTGACTAGATCTGTGAAACTCATTAAAAGTCATGTATTTCTCAGAAGGCACATCTCTAGGGATTGGTGGAGACTTTCTAAGAAATACATGGACGTGGATGAAAGTgggggaggttccaagatggccgaataggaacagctccagtctacagctcccagcatgagcgacgcagaagatgggtgatttctgcatttccaactgaggtaccgggttcatctcactggggCTTTTCggtcaccaaaaactgctaatatgacaaaaaaaggtgacaatcacagattatagacctgtgatggaagAAGTTGACATCATTCCAATCATTGTTACTGGGAGGAGGCATGCAGGTTTGGTTAGCTTAGTGATGAAATTTGCTCACTCAGGAAACTGAGTCAGCAGGTGCAGCTTCATCTAC-', '-ACCATTGACTAGATCTGTGAAACTCATTAAAAGTCATGTATTTCTCAGAAGGCACATCTCTAGGGATTGGTGGAGACTTTCTAAGAAATACATGGACGTGGATGAAAGTgggggaggttccaagatggccgaataggaacagctccagtctacagctcccagcatgagcgacgcagaagatgggtgatttctgcatttccaactgaggtaccgggttcatctcactggggCTTTTCGGTCACCAAAAACTGCTAATATGACAAAAAAAGGTGACAATCACAGATTATAGACCTGTGATGGAAGAAGTTGACATCATTCCAATCATTGTTACTGGGAGGAGGCATGCAGGTTTGGTTAGCTTAGTGATGAAATTTGCTCACTCAGGAAACTGAGTCAGCAGGTGCAGCTTCATCTACA', 406)\n"
     ]
    }
   ],
   "source": [
    "import seqalign\n",
    "for name,seq1 in reveal.fasta_reader(\"chrX.hg38.fa\"):\n",
    "    s1=seq1[72860191:72860191+417]\n",
    "    break\n",
    "for name,seq2 in reveal.fasta_reader(\"chrX.hg19.fa\"):\n",
    "    s2=seq2[72080053:72080053+417]\n",
    "    break\n",
    "\n",
    "print seqalign.nw_align(s1,s2)\n",
    "print seqalign.nw_align(reveal.rc(s1),s2)"
   ]
  },
  {
   "cell_type": "markdown",
   "metadata": {},
   "source": [
    "When we reverse complement one of the alleles the alignment is almost perfect, so this does indeed seem to be a valid inversion!"
   ]
  },
  {
   "cell_type": "markdown",
   "metadata": {},
   "source": [
    "#### Conclusion"
   ]
  },
  {
   "cell_type": "markdown",
   "metadata": {},
   "source": [
    "Reveal seems to be more sensitive to detect inversions, **mostly the smaller inversions (<1000bp) that are flanked by very large inverted repeat structures seem to be missed by MUMmer.**"
   ]
  },
  {
   "cell_type": "markdown",
   "metadata": {
    "collapsed": true
   },
   "source": [
    "# Explore all variant calls in one plot"
   ]
  },
  {
   "cell_type": "markdown",
   "metadata": {},
   "source": [
    "In order to figure out what happens in the cases where MUMmer and Reveal do not agree, let's make a plot that intergrates all the aforementioned missed variants along the x-axis of the chromosome (use %matplotlib notebook directive, to create an interactive plot)."
   ]
  },
  {
   "cell_type": "code",
   "execution_count": 41,
   "metadata": {
    "collapsed": false
   },
   "outputs": [
    {
     "data": {
      "image/png": "[encoded data removed]",
      "text/plain": [
       "<matplotlib.figure.Figure at 0x10769dd10>"
      ]
     },
     "metadata": {},
     "output_type": "display_data"
    }
   ],
   "source": [
    "%matplotlib inline\n",
    "#%matplotlib notebook\n",
    "plt.figure(figsize=(12,5))\n",
    "plt.plot(mindels,[1]*len(mindels),'bo')\n",
    "plt.plot(msnppositions,[2]*len(msnppositions),'b^')\n",
    "plt.plot(sorted(list(mummermissedsnps)),[3]*len(mummermissedsnps),'k^')\n",
    "plt.plot(sorted(list(mummermissedinserts)),[4]*len(mummermissedinserts),'kx')\n",
    "plt.plot(sorted(list(mummermisseddeletes)),[4]*len(mummermisseddeletes),'k.')\n",
    "plt.plot(sorted(list(revealmissedsnps)),[5]*len(revealmissedsnps),'g^')\n",
    "plt.plot(sorted(list(revealmissedgsnps)),[6]*len(revealmissedgsnps),'g*')\n",
    "plt.plot(sorted(list(revealmissedinserts)),[7]*len(revealmissedinserts),'gx')\n",
    "plt.plot(sorted(list(revealmisseddeletes)),[7]*len(revealmisseddeletes),'g.')\n",
    "for v,l in zip(rvariable,rvariablelength):\n",
    "    if v in rinversions:\n",
    "        plt.plot(v,8,'ko')\n",
    "        plt.plot([v,v+l],[8,8],'b-',linewidth=3)\n",
    "        plt.plot(v+l,8,'ko')\n",
    "    else:\n",
    "        plt.plot(v,8,'ro')\n",
    "        plt.plot([v,v+l],[8,8],'r-',linewidth=2)\n",
    "        plt.plot(v+l,8,'ro')\n",
    "plt.plot(rsnppositions,[9]*len(rsnppositions),'r^') #snps are ^\n",
    "plt.plot(rindels,[10]*len(rindels),'ro') #deletes are o\n",
    "plt.ylim(0,11)\n",
    "plt.show()"
   ]
  },
  {
   "cell_type": "markdown",
   "metadata": {},
   "source": [
    "Missed indel and SNP calls can be attributed to:\n",
    "- MUMmer left aligns tandem repeat induced indels (e.g. delete at 53909471 (reveal), vs 53909495), Reveal determines the position of the call depending on which MUM got aligned first\n",
    "- Ambiguous alignments of low compexity regions (AT train VTR 53907700:53910000)\n",
    "- Ambiguous alignments of low compexity regions (115402972:115404413)\n",
    "- Indel calls instead of SNP calls 116514000\n",
    "- Flanking regions of inversions: 135628000 - 135942000"
   ]
  },
  {
   "cell_type": "code",
   "execution_count": 42,
   "metadata": {
    "collapsed": false,
    "scrolled": true
   },
   "outputs": [
    {
     "data": {
      "text/plain": [
       "(135628000, 135942000)"
      ]
     },
     "execution_count": 42,
     "metadata": {},
     "output_type": "execute_result"
    },
    {
     "data": {
      "image/png": "[encoded data removed]",
      "text/plain": [
       "<matplotlib.figure.Figure at 0x10769de10>"
      ]
     },
     "metadata": {},
     "output_type": "display_data"
    }
   ],
   "source": [
    "%matplotlib inline\n",
    "plt.figure(figsize=(12,5))\n",
    "plt.plot(minserts,[0]*len(minserts),'bx')\n",
    "plt.plot(mdeletes,[1]*len(mdeletes),'bo')\n",
    "plt.plot(msnppositions,[2]*len(msnppositions),'b^')\n",
    "plt.plot(mgsnppositions,[2]*len(mgsnppositions),'b^')\n",
    "\n",
    "plt.plot(sorted(list(mummermissedsnps)),[3]*len(mummermissedsnps),'k^')\n",
    "plt.plot(sorted(list(mummermissedindels)),[4]*len(mummermissedindels),'kx')\n",
    "\n",
    "plt.plot(sorted(list(revealmissedsnps)),[5]*len(revealmissedsnps),'g*')\n",
    "plt.plot(sorted(list(revealmissedgsnps)),[6]*len(revealmissedgsnps),'g^')\n",
    "plt.plot(sorted(list(revealmissedindels)),[7]*len(revealmissedindels),'gx')\n",
    "for v,l in zip(rvariable,rvariablelength):\n",
    "    if v in rinversions:\n",
    "        plt.plot(v,8,'ko')\n",
    "        plt.plot([v,v+l],[8,8],'b-',linewidth=3)\n",
    "        plt.plot(v+l,8,'ko')\n",
    "    else:\n",
    "        plt.plot(v,8,'ro')\n",
    "        plt.plot([v,v+l],[8,8],'r-',linewidth=2)\n",
    "        plt.plot(v+l,8,'ro')\n",
    "plt.plot(rsnppositions,[9]*len(rsnppositions),'r^') #snps are ^\n",
    "plt.plot(rdeletes,[10]*len(rdeletes),'ro') #deletes are o\n",
    "plt.plot(rinserts,[11]*len(rinserts),'rx') #inserts are x\n",
    "plt.xlim(135628000,135942000)"
   ]
  },
  {
   "cell_type": "code",
   "execution_count": null,
   "metadata": {
    "collapsed": true
   },
   "outputs": [],
   "source": []
  }
 ],
 "metadata": {
  "anaconda-cloud": {},
  "kernelspec": {
   "display_name": "Python [Root]",
   "language": "python",
   "name": "Python [Root]"
  },
  "language_info": {
   "codemirror_mode": {
    "name": "ipython",
    "version": 2
   },
   "file_extension": ".py",
   "mimetype": "text/x-python",
   "name": "python",
   "nbconvert_exporter": "python",
   "pygments_lexer": "ipython2",
   "version": "2.7.12"
  }
 },
 "nbformat": 4,
 "nbformat_minor": 0
}
